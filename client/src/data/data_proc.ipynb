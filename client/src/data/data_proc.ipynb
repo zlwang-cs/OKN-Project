{
 "cells": [
  {
   "cell_type": "code",
   "execution_count": 1,
   "metadata": {},
   "outputs": [],
   "source": [
    "import pandas as pd"
   ]
  },
  {
   "cell_type": "code",
   "execution_count": 2,
   "metadata": {},
   "outputs": [],
   "source": [
    "data = pd.read_csv('alignment_geodata.csv')"
   ]
  },
  {
   "cell_type": "code",
   "execution_count": 18,
   "metadata": {},
   "outputs": [],
   "source": [
    "ct_map = {}\n",
    "\n",
    "for index, row in data.iterrows():\n",
    "    ct = row['Census track']\n",
    "    ct_poly = row['C_poly']\n",
    "\n",
    "    ct_poly = ct_poly.replace('[\\'POLYGON ((', '').replace('))\\']', '')\n",
    "    ct_poly = ct_poly.split(', ')\n",
    "    ct_poly = [x.split(' ') for x in ct_poly]\n",
    "    ct_poly = [[float(x), float(y)] for y, x in ct_poly]\n",
    "\n",
    "    if ct in ct_map:\n",
    "        assert ct_map[ct] == ct_poly\n",
    "\n",
    "    ct_map[ct] = ct_poly"
   ]
  },
  {
   "cell_type": "code",
   "execution_count": 21,
   "metadata": {},
   "outputs": [],
   "source": [
    "import json\n",
    "json.dump(ct_map, open('census_track.json', 'w'), indent=2)"
   ]
  },
  {
   "cell_type": "code",
   "execution_count": null,
   "metadata": {},
   "outputs": [],
   "source": []
  }
 ],
 "metadata": {
  "kernelspec": {
   "display_name": "OKN",
   "language": "python",
   "name": "python3"
  },
  "language_info": {
   "codemirror_mode": {
    "name": "ipython",
    "version": 3
   },
   "file_extension": ".py",
   "mimetype": "text/x-python",
   "name": "python",
   "nbconvert_exporter": "python",
   "pygments_lexer": "ipython3",
   "version": "3.10.14"
  }
 },
 "nbformat": 4,
 "nbformat_minor": 2
}
